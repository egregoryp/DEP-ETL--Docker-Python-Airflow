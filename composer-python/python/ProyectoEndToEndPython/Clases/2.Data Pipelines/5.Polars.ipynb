{
 "cells": [
  {
   "cell_type": "code",
   "execution_count": 1,
   "metadata": {
    "tags": []
   },
   "outputs": [
    {
     "name": "stdout",
     "output_type": "stream",
     "text": [
      "Collecting polars\n",
      "  Downloading polars-0.16.17-cp37-abi3-manylinux_2_17_x86_64.manylinux2014_x86_64.whl (16.6 MB)\n",
      "\u001b[2K     \u001b[90m━━━━━━━━━━━━━━━━━━━━━━━━━━━━━━━━━━━━━━━━\u001b[0m \u001b[32m16.6/16.6 MB\u001b[0m \u001b[31m8.8 MB/s\u001b[0m eta \u001b[36m0:00:00\u001b[0m:00:01\u001b[0m00:01\u001b[0m\n",
      "\u001b[?25hRequirement already satisfied: typing_extensions>=4.0.1 in /usr/local/lib/python3.9/site-packages (from polars) (4.5.0)\n",
      "Installing collected packages: polars\n",
      "Successfully installed polars-0.16.17\n",
      "\u001b[33mWARNING: Running pip as the 'root' user can result in broken permissions and conflicting behaviour with the system package manager. It is recommended to use a virtual environment instead: https://pip.pypa.io/warnings/venv\u001b[0m\u001b[33m\n",
      "\u001b[0m\u001b[33mWARNING: You are using pip version 22.0.4; however, version 23.0.1 is available.\n",
      "You should consider upgrading via the '/usr/local/bin/python -m pip install --upgrade pip' command.\u001b[0m\u001b[33m\n",
      "\u001b[0m"
     ]
    }
   ],
   "source": [
    "!pip install polars"
   ]
  },
  {
   "cell_type": "code",
   "execution_count": 2,
   "metadata": {
    "tags": []
   },
   "outputs": [],
   "source": [
    "#polars parallel processing\n",
    "import polars as pl\n",
    "import time\n",
    "# to enrich the examples in this quickstart with dates\n",
    "from datetime import datetime, timedelta \n",
    "# to generate data for the examples\n",
    "import numpy as np \n",
    "import pandas as pd\n",
    "\n"
   ]
  },
  {
   "cell_type": "code",
   "execution_count": 3,
   "metadata": {
    "tags": []
   },
   "outputs": [
    {
     "name": "stdout",
     "output_type": "stream",
     "text": [
      "shape: (3, 3)\n",
      "┌─────────┬─────────────────────┬───────┐\n",
      "│ integer ┆ date                ┆ float │\n",
      "│ ---     ┆ ---                 ┆ ---   │\n",
      "│ i64     ┆ datetime[μs]        ┆ f64   │\n",
      "╞═════════╪═════════════════════╪═══════╡\n",
      "│ 1       ┆ 2022-01-01 00:00:00 ┆ 4.0   │\n",
      "│ 2       ┆ 2022-01-02 00:00:00 ┆ 5.0   │\n",
      "│ 3       ┆ 2022-01-03 00:00:00 ┆ 6.0   │\n",
      "└─────────┴─────────────────────┴───────┘\n"
     ]
    }
   ],
   "source": [
    "dataframe = pl.DataFrame({\"integer\": [1, 2, 3], \n",
    "                          \"date\": [\n",
    "                              (datetime(2022, 1, 1)), \n",
    "                              (datetime(2022, 1, 2)), \n",
    "                              (datetime(2022, 1, 3))\n",
    "                          ], \n",
    "                          \"float\":[4.0, 5.0, 6.0]})\n",
    "\n",
    "print(dataframe)"
   ]
  },
  {
   "cell_type": "code",
   "execution_count": 6,
   "metadata": {
    "tags": []
   },
   "outputs": [
    {
     "name": "stderr",
     "output_type": "stream",
     "text": [
      "/tmp/ipykernel_2603/126533836.py:1: DeprecationWarning: `sep` is deprecated as an argument to `read_csv`; use `separator` instead.\n",
      "  df_pl_customer = pl.read_csv('../data/customer', sep=\"|\",has_header=False, new_columns=[\"customer_id\",\"customer_fname\",\"customer_lname\",\"customer_email\",\"customer_password\",\"customer_street\",\"customer_city\",\"customer_state\",\"customer_zipcode\"])\n"
     ]
    }
   ],
   "source": [
    "df_pl_customer = pl.read_csv('../data/customer', sep=\"|\",has_header=False, new_columns=[\"customer_id\",\"customer_fname\",\"customer_lname\",\"customer_email\",\"customer_password\",\"customer_street\",\"customer_city\",\"customer_state\",\"customer_zipcode\"])"
   ]
  },
  {
   "cell_type": "code",
   "execution_count": 7,
   "metadata": {
    "tags": []
   },
   "outputs": [
    {
     "name": "stderr",
     "output_type": "stream",
     "text": [
      "/tmp/ipykernel_2603/1811420873.py:1: DeprecationWarning: `sep` is deprecated as an argument to `read_csv`; use `separator` instead.\n",
      "  df_pl_orders = pl.read_csv('../data/orders',sep='|', has_header=False, new_columns=[\"order_id\",\"order_date\",\"order_customer_id\",\"order_status\"])\n"
     ]
    }
   ],
   "source": [
    "df_pl_orders = pl.read_csv('../data/orders',sep='|', has_header=False, new_columns=[\"order_id\",\"order_date\",\"order_customer_id\",\"order_status\"])\n"
   ]
  },
  {
   "cell_type": "code",
   "execution_count": 8,
   "metadata": {
    "tags": []
   },
   "outputs": [
    {
     "name": "stderr",
     "output_type": "stream",
     "text": [
      "/tmp/ipykernel_2603/2407667799.py:1: DeprecationWarning: `sep` is deprecated as an argument to `read_csv`; use `separator` instead.\n",
      "  df_pl_order_items = pl.read_csv('../data/order_items',sep='|', has_header=False, new_columns=[\"order_item_id\",\"order_item_order_id\",\"order_item_product_id\",\"order_item_quantity\",\"order_item_subtotal\",\"order_item_product_price\"])\n"
     ]
    }
   ],
   "source": [
    "df_pl_order_items = pl.read_csv('../data/order_items',sep='|', has_header=False, new_columns=[\"order_item_id\",\"order_item_order_id\",\"order_item_product_id\",\"order_item_quantity\",\"order_item_subtotal\",\"order_item_product_price\"])\n"
   ]
  },
  {
   "cell_type": "code",
   "execution_count": 9,
   "metadata": {
    "tags": []
   },
   "outputs": [],
   "source": [
    "df_pd_customer = pd.read_csv('../data/customer', sep=\"|\",header=None, names=[\"customer_id\",\"customer_fname\",\"customer_lname\",\"customer_email\",\"customer_password\",\"customer_street\",\"customer_city\",\"customer_state\",\"customer_zipcode\"])"
   ]
  },
  {
   "cell_type": "code",
   "execution_count": 10,
   "metadata": {
    "tags": []
   },
   "outputs": [],
   "source": [
    "df_pd_orders = pd.read_csv('../data/orders',sep='|', header=None, names=[\"order_id\",\"order_date\",\"order_customer_id\",\"order_status\"])\n"
   ]
  },
  {
   "cell_type": "code",
   "execution_count": 11,
   "metadata": {
    "tags": []
   },
   "outputs": [],
   "source": [
    "df_pd_order_items = pd.read_csv('../data/order_items',sep='|', header=None, names=[\"order_item_id\",\"order_item_order_id\",\"order_item_product_id\",\"order_item_quantity\",\"order_item_subtotal\",\"order_item_product_price\"])\n"
   ]
  },
  {
   "cell_type": "code",
   "execution_count": 12,
   "metadata": {
    "tags": []
   },
   "outputs": [
    {
     "data": {
      "text/html": [
       "<div>\n",
       "<style scoped>\n",
       "    .dataframe tbody tr th:only-of-type {\n",
       "        vertical-align: middle;\n",
       "    }\n",
       "\n",
       "    .dataframe tbody tr th {\n",
       "        vertical-align: top;\n",
       "    }\n",
       "\n",
       "    .dataframe thead th {\n",
       "        text-align: right;\n",
       "    }\n",
       "</style>\n",
       "<table border=\"1\" class=\"dataframe\">\n",
       "  <thead>\n",
       "    <tr style=\"text-align: right;\">\n",
       "      <th></th>\n",
       "      <th>customer_id</th>\n",
       "      <th>customer_fname</th>\n",
       "      <th>customer_lname</th>\n",
       "      <th>customer_email</th>\n",
       "      <th>customer_password</th>\n",
       "      <th>customer_street</th>\n",
       "      <th>customer_city</th>\n",
       "      <th>customer_state</th>\n",
       "      <th>customer_zipcode</th>\n",
       "    </tr>\n",
       "  </thead>\n",
       "  <tbody>\n",
       "    <tr>\n",
       "      <th>0</th>\n",
       "      <td>1</td>\n",
       "      <td>Richard</td>\n",
       "      <td>Hernandez</td>\n",
       "      <td>XXXXXXXXX</td>\n",
       "      <td>XXXXXXXXX</td>\n",
       "      <td>6303 Heather Plaza</td>\n",
       "      <td>Brownsville</td>\n",
       "      <td>TX</td>\n",
       "      <td>78521</td>\n",
       "    </tr>\n",
       "    <tr>\n",
       "      <th>1</th>\n",
       "      <td>2</td>\n",
       "      <td>Mary</td>\n",
       "      <td>Barrett</td>\n",
       "      <td>XXXXXXXXX</td>\n",
       "      <td>XXXXXXXXX</td>\n",
       "      <td>9526 Noble Embers Ridge</td>\n",
       "      <td>Littleton</td>\n",
       "      <td>CO</td>\n",
       "      <td>80126</td>\n",
       "    </tr>\n",
       "    <tr>\n",
       "      <th>2</th>\n",
       "      <td>3</td>\n",
       "      <td>Ann</td>\n",
       "      <td>Smith</td>\n",
       "      <td>XXXXXXXXX</td>\n",
       "      <td>XXXXXXXXX</td>\n",
       "      <td>3422 Blue Pioneer Bend</td>\n",
       "      <td>Caguas</td>\n",
       "      <td>PR</td>\n",
       "      <td>725</td>\n",
       "    </tr>\n",
       "    <tr>\n",
       "      <th>3</th>\n",
       "      <td>4</td>\n",
       "      <td>Mary</td>\n",
       "      <td>Jones</td>\n",
       "      <td>XXXXXXXXX</td>\n",
       "      <td>XXXXXXXXX</td>\n",
       "      <td>8324 Little Common</td>\n",
       "      <td>San Marcos</td>\n",
       "      <td>CA</td>\n",
       "      <td>92069</td>\n",
       "    </tr>\n",
       "    <tr>\n",
       "      <th>4</th>\n",
       "      <td>5</td>\n",
       "      <td>Robert</td>\n",
       "      <td>Hudson</td>\n",
       "      <td>XXXXXXXXX</td>\n",
       "      <td>XXXXXXXXX</td>\n",
       "      <td>10 Crystal River Mall</td>\n",
       "      <td>Caguas</td>\n",
       "      <td>PR</td>\n",
       "      <td>725</td>\n",
       "    </tr>\n",
       "    <tr>\n",
       "      <th>...</th>\n",
       "      <td>...</td>\n",
       "      <td>...</td>\n",
       "      <td>...</td>\n",
       "      <td>...</td>\n",
       "      <td>...</td>\n",
       "      <td>...</td>\n",
       "      <td>...</td>\n",
       "      <td>...</td>\n",
       "      <td>...</td>\n",
       "    </tr>\n",
       "    <tr>\n",
       "      <th>12430</th>\n",
       "      <td>12431</td>\n",
       "      <td>Mary</td>\n",
       "      <td>Rios</td>\n",
       "      <td>XXXXXXXXX</td>\n",
       "      <td>XXXXXXXXX</td>\n",
       "      <td>1221 Cinder Pines</td>\n",
       "      <td>Kaneohe</td>\n",
       "      <td>HI</td>\n",
       "      <td>96744</td>\n",
       "    </tr>\n",
       "    <tr>\n",
       "      <th>12431</th>\n",
       "      <td>12432</td>\n",
       "      <td>Angela</td>\n",
       "      <td>Smith</td>\n",
       "      <td>XXXXXXXXX</td>\n",
       "      <td>XXXXXXXXX</td>\n",
       "      <td>1525 Jagged Barn Highlands</td>\n",
       "      <td>Caguas</td>\n",
       "      <td>PR</td>\n",
       "      <td>725</td>\n",
       "    </tr>\n",
       "    <tr>\n",
       "      <th>12432</th>\n",
       "      <td>12433</td>\n",
       "      <td>Benjamin</td>\n",
       "      <td>Garcia</td>\n",
       "      <td>XXXXXXXXX</td>\n",
       "      <td>XXXXXXXXX</td>\n",
       "      <td>5459 Noble Brook Landing</td>\n",
       "      <td>Levittown</td>\n",
       "      <td>NY</td>\n",
       "      <td>11756</td>\n",
       "    </tr>\n",
       "    <tr>\n",
       "      <th>12433</th>\n",
       "      <td>12434</td>\n",
       "      <td>Mary</td>\n",
       "      <td>Mills</td>\n",
       "      <td>XXXXXXXXX</td>\n",
       "      <td>XXXXXXXXX</td>\n",
       "      <td>9720 Colonial Parade</td>\n",
       "      <td>Caguas</td>\n",
       "      <td>PR</td>\n",
       "      <td>725</td>\n",
       "    </tr>\n",
       "    <tr>\n",
       "      <th>12434</th>\n",
       "      <td>12435</td>\n",
       "      <td>Laura</td>\n",
       "      <td>Horton</td>\n",
       "      <td>XXXXXXXXX</td>\n",
       "      <td>XXXXXXXXX</td>\n",
       "      <td>5736 Honey Downs</td>\n",
       "      <td>Summerville</td>\n",
       "      <td>SC</td>\n",
       "      <td>29483</td>\n",
       "    </tr>\n",
       "  </tbody>\n",
       "</table>\n",
       "<p>12435 rows × 9 columns</p>\n",
       "</div>"
      ],
      "text/plain": [
       "       customer_id customer_fname customer_lname customer_email  \\\n",
       "0                1        Richard      Hernandez      XXXXXXXXX   \n",
       "1                2           Mary        Barrett      XXXXXXXXX   \n",
       "2                3            Ann          Smith      XXXXXXXXX   \n",
       "3                4           Mary          Jones      XXXXXXXXX   \n",
       "4                5         Robert         Hudson      XXXXXXXXX   \n",
       "...            ...            ...            ...            ...   \n",
       "12430        12431           Mary           Rios      XXXXXXXXX   \n",
       "12431        12432         Angela          Smith      XXXXXXXXX   \n",
       "12432        12433       Benjamin         Garcia      XXXXXXXXX   \n",
       "12433        12434           Mary          Mills      XXXXXXXXX   \n",
       "12434        12435          Laura         Horton      XXXXXXXXX   \n",
       "\n",
       "      customer_password             customer_street customer_city  \\\n",
       "0             XXXXXXXXX          6303 Heather Plaza   Brownsville   \n",
       "1             XXXXXXXXX     9526 Noble Embers Ridge     Littleton   \n",
       "2             XXXXXXXXX      3422 Blue Pioneer Bend        Caguas   \n",
       "3             XXXXXXXXX          8324 Little Common    San Marcos   \n",
       "4             XXXXXXXXX      10 Crystal River Mall         Caguas   \n",
       "...                 ...                         ...           ...   \n",
       "12430         XXXXXXXXX           1221 Cinder Pines       Kaneohe   \n",
       "12431         XXXXXXXXX  1525 Jagged Barn Highlands        Caguas   \n",
       "12432         XXXXXXXXX    5459 Noble Brook Landing     Levittown   \n",
       "12433         XXXXXXXXX        9720 Colonial Parade        Caguas   \n",
       "12434         XXXXXXXXX            5736 Honey Downs   Summerville   \n",
       "\n",
       "      customer_state  customer_zipcode  \n",
       "0                 TX             78521  \n",
       "1                 CO             80126  \n",
       "2                 PR               725  \n",
       "3                 CA             92069  \n",
       "4                 PR               725  \n",
       "...              ...               ...  \n",
       "12430             HI             96744  \n",
       "12431             PR               725  \n",
       "12432             NY             11756  \n",
       "12433             PR               725  \n",
       "12434             SC             29483  \n",
       "\n",
       "[12435 rows x 9 columns]"
      ]
     },
     "execution_count": 12,
     "metadata": {},
     "output_type": "execute_result"
    }
   ],
   "source": [
    "df_pd_customer"
   ]
  },
  {
   "cell_type": "code",
   "execution_count": 14,
   "metadata": {
    "tags": []
   },
   "outputs": [
    {
     "name": "stdout",
     "output_type": "stream",
     "text": [
      "CPU times: user 30.3 ms, sys: 61.9 ms, total: 92.2 ms\n",
      "Wall time: 91.5 ms\n"
     ]
    },
    {
     "data": {
      "text/html": [
       "<div>\n",
       "<style scoped>\n",
       "    .dataframe tbody tr th:only-of-type {\n",
       "        vertical-align: middle;\n",
       "    }\n",
       "\n",
       "    .dataframe tbody tr th {\n",
       "        vertical-align: top;\n",
       "    }\n",
       "\n",
       "    .dataframe thead th {\n",
       "        text-align: right;\n",
       "    }\n",
       "</style>\n",
       "<table border=\"1\" class=\"dataframe\">\n",
       "  <thead>\n",
       "    <tr style=\"text-align: right;\">\n",
       "      <th></th>\n",
       "      <th>customer_id</th>\n",
       "      <th>customer_fname</th>\n",
       "      <th>customer_lname</th>\n",
       "      <th>customer_email</th>\n",
       "      <th>customer_password</th>\n",
       "      <th>customer_street</th>\n",
       "      <th>customer_city</th>\n",
       "      <th>customer_state</th>\n",
       "      <th>customer_zipcode</th>\n",
       "      <th>order_id</th>\n",
       "      <th>order_date</th>\n",
       "      <th>order_customer_id</th>\n",
       "      <th>order_status</th>\n",
       "    </tr>\n",
       "  </thead>\n",
       "  <tbody>\n",
       "    <tr>\n",
       "      <th>1</th>\n",
       "      <td>2</td>\n",
       "      <td>Mary</td>\n",
       "      <td>Barrett</td>\n",
       "      <td>XXXXXXXXX</td>\n",
       "      <td>XXXXXXXXX</td>\n",
       "      <td>9526 Noble Embers Ridge</td>\n",
       "      <td>Littleton</td>\n",
       "      <td>CO</td>\n",
       "      <td>80126</td>\n",
       "      <td>15192.0</td>\n",
       "      <td>2013-10-29 00:00:00.0</td>\n",
       "      <td>2.0</td>\n",
       "      <td>PENDING_PAYMENT</td>\n",
       "    </tr>\n",
       "    <tr>\n",
       "      <th>2</th>\n",
       "      <td>2</td>\n",
       "      <td>Mary</td>\n",
       "      <td>Barrett</td>\n",
       "      <td>XXXXXXXXX</td>\n",
       "      <td>XXXXXXXXX</td>\n",
       "      <td>9526 Noble Embers Ridge</td>\n",
       "      <td>Littleton</td>\n",
       "      <td>CO</td>\n",
       "      <td>80126</td>\n",
       "      <td>33865.0</td>\n",
       "      <td>2014-02-18 00:00:00.0</td>\n",
       "      <td>2.0</td>\n",
       "      <td>COMPLETE</td>\n",
       "    </tr>\n",
       "    <tr>\n",
       "      <th>3</th>\n",
       "      <td>2</td>\n",
       "      <td>Mary</td>\n",
       "      <td>Barrett</td>\n",
       "      <td>XXXXXXXXX</td>\n",
       "      <td>XXXXXXXXX</td>\n",
       "      <td>9526 Noble Embers Ridge</td>\n",
       "      <td>Littleton</td>\n",
       "      <td>CO</td>\n",
       "      <td>80126</td>\n",
       "      <td>57963.0</td>\n",
       "      <td>2013-08-02 00:00:00.0</td>\n",
       "      <td>2.0</td>\n",
       "      <td>ON_HOLD</td>\n",
       "    </tr>\n",
       "    <tr>\n",
       "      <th>4</th>\n",
       "      <td>2</td>\n",
       "      <td>Mary</td>\n",
       "      <td>Barrett</td>\n",
       "      <td>XXXXXXXXX</td>\n",
       "      <td>XXXXXXXXX</td>\n",
       "      <td>9526 Noble Embers Ridge</td>\n",
       "      <td>Littleton</td>\n",
       "      <td>CO</td>\n",
       "      <td>80126</td>\n",
       "      <td>67863.0</td>\n",
       "      <td>2013-11-30 00:00:00.0</td>\n",
       "      <td>2.0</td>\n",
       "      <td>COMPLETE</td>\n",
       "    </tr>\n",
       "    <tr>\n",
       "      <th>35347</th>\n",
       "      <td>6353</td>\n",
       "      <td>Mary</td>\n",
       "      <td>Rogers</td>\n",
       "      <td>XXXXXXXXX</td>\n",
       "      <td>XXXXXXXXX</td>\n",
       "      <td>9526 Noble Embers Ridge</td>\n",
       "      <td>Decatur</td>\n",
       "      <td>GA</td>\n",
       "      <td>30032</td>\n",
       "      <td>15215.0</td>\n",
       "      <td>2013-10-30 00:00:00.0</td>\n",
       "      <td>6353.0</td>\n",
       "      <td>COMPLETE</td>\n",
       "    </tr>\n",
       "    <tr>\n",
       "      <th>35348</th>\n",
       "      <td>6353</td>\n",
       "      <td>Mary</td>\n",
       "      <td>Rogers</td>\n",
       "      <td>XXXXXXXXX</td>\n",
       "      <td>XXXXXXXXX</td>\n",
       "      <td>9526 Noble Embers Ridge</td>\n",
       "      <td>Decatur</td>\n",
       "      <td>GA</td>\n",
       "      <td>30032</td>\n",
       "      <td>17539.0</td>\n",
       "      <td>2013-11-11 00:00:00.0</td>\n",
       "      <td>6353.0</td>\n",
       "      <td>CLOSED</td>\n",
       "    </tr>\n",
       "    <tr>\n",
       "      <th>35349</th>\n",
       "      <td>6353</td>\n",
       "      <td>Mary</td>\n",
       "      <td>Rogers</td>\n",
       "      <td>XXXXXXXXX</td>\n",
       "      <td>XXXXXXXXX</td>\n",
       "      <td>9526 Noble Embers Ridge</td>\n",
       "      <td>Decatur</td>\n",
       "      <td>GA</td>\n",
       "      <td>30032</td>\n",
       "      <td>22354.0</td>\n",
       "      <td>2013-12-09 00:00:00.0</td>\n",
       "      <td>6353.0</td>\n",
       "      <td>COMPLETE</td>\n",
       "    </tr>\n",
       "    <tr>\n",
       "      <th>35350</th>\n",
       "      <td>6353</td>\n",
       "      <td>Mary</td>\n",
       "      <td>Rogers</td>\n",
       "      <td>XXXXXXXXX</td>\n",
       "      <td>XXXXXXXXX</td>\n",
       "      <td>9526 Noble Embers Ridge</td>\n",
       "      <td>Decatur</td>\n",
       "      <td>GA</td>\n",
       "      <td>30032</td>\n",
       "      <td>32652.0</td>\n",
       "      <td>2014-02-11 00:00:00.0</td>\n",
       "      <td>6353.0</td>\n",
       "      <td>PENDING_PAYMENT</td>\n",
       "    </tr>\n",
       "    <tr>\n",
       "      <th>35351</th>\n",
       "      <td>6353</td>\n",
       "      <td>Mary</td>\n",
       "      <td>Rogers</td>\n",
       "      <td>XXXXXXXXX</td>\n",
       "      <td>XXXXXXXXX</td>\n",
       "      <td>9526 Noble Embers Ridge</td>\n",
       "      <td>Decatur</td>\n",
       "      <td>GA</td>\n",
       "      <td>30032</td>\n",
       "      <td>68525.0</td>\n",
       "      <td>2014-06-05 00:00:00.0</td>\n",
       "      <td>6353.0</td>\n",
       "      <td>COMPLETE</td>\n",
       "    </tr>\n",
       "    <tr>\n",
       "      <th>66164</th>\n",
       "      <td>11944</td>\n",
       "      <td>Tammy</td>\n",
       "      <td>Ferguson</td>\n",
       "      <td>XXXXXXXXX</td>\n",
       "      <td>XXXXXXXXX</td>\n",
       "      <td>9526 Noble Embers Ridge</td>\n",
       "      <td>Caguas</td>\n",
       "      <td>PR</td>\n",
       "      <td>725</td>\n",
       "      <td>61747.0</td>\n",
       "      <td>2013-12-25 00:00:00.0</td>\n",
       "      <td>11944.0</td>\n",
       "      <td>PENDING</td>\n",
       "    </tr>\n",
       "  </tbody>\n",
       "</table>\n",
       "</div>"
      ],
      "text/plain": [
       "       customer_id customer_fname customer_lname customer_email  \\\n",
       "1                2           Mary        Barrett      XXXXXXXXX   \n",
       "2                2           Mary        Barrett      XXXXXXXXX   \n",
       "3                2           Mary        Barrett      XXXXXXXXX   \n",
       "4                2           Mary        Barrett      XXXXXXXXX   \n",
       "35347         6353           Mary         Rogers      XXXXXXXXX   \n",
       "35348         6353           Mary         Rogers      XXXXXXXXX   \n",
       "35349         6353           Mary         Rogers      XXXXXXXXX   \n",
       "35350         6353           Mary         Rogers      XXXXXXXXX   \n",
       "35351         6353           Mary         Rogers      XXXXXXXXX   \n",
       "66164        11944          Tammy       Ferguson      XXXXXXXXX   \n",
       "\n",
       "      customer_password          customer_street customer_city customer_state  \\\n",
       "1             XXXXXXXXX  9526 Noble Embers Ridge     Littleton             CO   \n",
       "2             XXXXXXXXX  9526 Noble Embers Ridge     Littleton             CO   \n",
       "3             XXXXXXXXX  9526 Noble Embers Ridge     Littleton             CO   \n",
       "4             XXXXXXXXX  9526 Noble Embers Ridge     Littleton             CO   \n",
       "35347         XXXXXXXXX  9526 Noble Embers Ridge       Decatur             GA   \n",
       "35348         XXXXXXXXX  9526 Noble Embers Ridge       Decatur             GA   \n",
       "35349         XXXXXXXXX  9526 Noble Embers Ridge       Decatur             GA   \n",
       "35350         XXXXXXXXX  9526 Noble Embers Ridge       Decatur             GA   \n",
       "35351         XXXXXXXXX  9526 Noble Embers Ridge       Decatur             GA   \n",
       "66164         XXXXXXXXX  9526 Noble Embers Ridge        Caguas             PR   \n",
       "\n",
       "       customer_zipcode  order_id             order_date  order_customer_id  \\\n",
       "1                 80126   15192.0  2013-10-29 00:00:00.0                2.0   \n",
       "2                 80126   33865.0  2014-02-18 00:00:00.0                2.0   \n",
       "3                 80126   57963.0  2013-08-02 00:00:00.0                2.0   \n",
       "4                 80126   67863.0  2013-11-30 00:00:00.0                2.0   \n",
       "35347             30032   15215.0  2013-10-30 00:00:00.0             6353.0   \n",
       "35348             30032   17539.0  2013-11-11 00:00:00.0             6353.0   \n",
       "35349             30032   22354.0  2013-12-09 00:00:00.0             6353.0   \n",
       "35350             30032   32652.0  2014-02-11 00:00:00.0             6353.0   \n",
       "35351             30032   68525.0  2014-06-05 00:00:00.0             6353.0   \n",
       "66164               725   61747.0  2013-12-25 00:00:00.0            11944.0   \n",
       "\n",
       "          order_status  \n",
       "1      PENDING_PAYMENT  \n",
       "2             COMPLETE  \n",
       "3              ON_HOLD  \n",
       "4             COMPLETE  \n",
       "35347         COMPLETE  \n",
       "35348           CLOSED  \n",
       "35349         COMPLETE  \n",
       "35350  PENDING_PAYMENT  \n",
       "35351         COMPLETE  \n",
       "66164          PENDING  "
      ]
     },
     "execution_count": 14,
     "metadata": {},
     "output_type": "execute_result"
    }
   ],
   "source": [
    "%%time\n",
    "df_pd_customer.merge(df_pd_orders, left_on='customer_id', right_on='order_customer_id', how='left').query(\"customer_street =='9526 Noble Embers Ridge'\")"
   ]
  },
  {
   "cell_type": "code",
   "execution_count": 15,
   "metadata": {
    "tags": []
   },
   "outputs": [
    {
     "name": "stdout",
     "output_type": "stream",
     "text": [
      "CPU times: user 55.3 ms, sys: 135 ms, total: 191 ms\n",
      "Wall time: 39.7 ms\n"
     ]
    },
    {
     "data": {
      "text/html": [
       "<div><style>\n",
       ".dataframe > thead > tr > th,\n",
       ".dataframe > tbody > tr > td {\n",
       "  text-align: right;\n",
       "}\n",
       "</style>\n",
       "<small>shape: (10, 12)</small><table border=\"1\" class=\"dataframe\"><thead><tr><th>customer_id</th><th>customer_fname</th><th>customer_lname</th><th>customer_email</th><th>customer_password</th><th>customer_street</th><th>customer_city</th><th>customer_state</th><th>customer_zipcode</th><th>order_id</th><th>order_date</th><th>order_status</th></tr><tr><td>i64</td><td>str</td><td>str</td><td>str</td><td>str</td><td>str</td><td>str</td><td>str</td><td>i64</td><td>i64</td><td>str</td><td>str</td></tr></thead><tbody><tr><td>2</td><td>&quot;Mary&quot;</td><td>&quot;Barrett&quot;</td><td>&quot;XXXXXXXXX&quot;</td><td>&quot;XXXXXXXXX&quot;</td><td>&quot;9526 Noble Emb…</td><td>&quot;Littleton&quot;</td><td>&quot;CO&quot;</td><td>80126</td><td>15192</td><td>&quot;2013-10-29 00:…</td><td>&quot;PENDING_PAYMEN…</td></tr><tr><td>2</td><td>&quot;Mary&quot;</td><td>&quot;Barrett&quot;</td><td>&quot;XXXXXXXXX&quot;</td><td>&quot;XXXXXXXXX&quot;</td><td>&quot;9526 Noble Emb…</td><td>&quot;Littleton&quot;</td><td>&quot;CO&quot;</td><td>80126</td><td>33865</td><td>&quot;2014-02-18 00:…</td><td>&quot;COMPLETE&quot;</td></tr><tr><td>2</td><td>&quot;Mary&quot;</td><td>&quot;Barrett&quot;</td><td>&quot;XXXXXXXXX&quot;</td><td>&quot;XXXXXXXXX&quot;</td><td>&quot;9526 Noble Emb…</td><td>&quot;Littleton&quot;</td><td>&quot;CO&quot;</td><td>80126</td><td>57963</td><td>&quot;2013-08-02 00:…</td><td>&quot;ON_HOLD&quot;</td></tr><tr><td>2</td><td>&quot;Mary&quot;</td><td>&quot;Barrett&quot;</td><td>&quot;XXXXXXXXX&quot;</td><td>&quot;XXXXXXXXX&quot;</td><td>&quot;9526 Noble Emb…</td><td>&quot;Littleton&quot;</td><td>&quot;CO&quot;</td><td>80126</td><td>67863</td><td>&quot;2013-11-30 00:…</td><td>&quot;COMPLETE&quot;</td></tr><tr><td>6353</td><td>&quot;Mary&quot;</td><td>&quot;Rogers&quot;</td><td>&quot;XXXXXXXXX&quot;</td><td>&quot;XXXXXXXXX&quot;</td><td>&quot;9526 Noble Emb…</td><td>&quot;Decatur&quot;</td><td>&quot;GA&quot;</td><td>30032</td><td>15215</td><td>&quot;2013-10-30 00:…</td><td>&quot;COMPLETE&quot;</td></tr><tr><td>6353</td><td>&quot;Mary&quot;</td><td>&quot;Rogers&quot;</td><td>&quot;XXXXXXXXX&quot;</td><td>&quot;XXXXXXXXX&quot;</td><td>&quot;9526 Noble Emb…</td><td>&quot;Decatur&quot;</td><td>&quot;GA&quot;</td><td>30032</td><td>17539</td><td>&quot;2013-11-11 00:…</td><td>&quot;CLOSED&quot;</td></tr><tr><td>6353</td><td>&quot;Mary&quot;</td><td>&quot;Rogers&quot;</td><td>&quot;XXXXXXXXX&quot;</td><td>&quot;XXXXXXXXX&quot;</td><td>&quot;9526 Noble Emb…</td><td>&quot;Decatur&quot;</td><td>&quot;GA&quot;</td><td>30032</td><td>22354</td><td>&quot;2013-12-09 00:…</td><td>&quot;COMPLETE&quot;</td></tr><tr><td>6353</td><td>&quot;Mary&quot;</td><td>&quot;Rogers&quot;</td><td>&quot;XXXXXXXXX&quot;</td><td>&quot;XXXXXXXXX&quot;</td><td>&quot;9526 Noble Emb…</td><td>&quot;Decatur&quot;</td><td>&quot;GA&quot;</td><td>30032</td><td>32652</td><td>&quot;2014-02-11 00:…</td><td>&quot;PENDING_PAYMEN…</td></tr><tr><td>6353</td><td>&quot;Mary&quot;</td><td>&quot;Rogers&quot;</td><td>&quot;XXXXXXXXX&quot;</td><td>&quot;XXXXXXXXX&quot;</td><td>&quot;9526 Noble Emb…</td><td>&quot;Decatur&quot;</td><td>&quot;GA&quot;</td><td>30032</td><td>68525</td><td>&quot;2014-06-05 00:…</td><td>&quot;COMPLETE&quot;</td></tr><tr><td>11944</td><td>&quot;Tammy&quot;</td><td>&quot;Ferguson&quot;</td><td>&quot;XXXXXXXXX&quot;</td><td>&quot;XXXXXXXXX&quot;</td><td>&quot;9526 Noble Emb…</td><td>&quot;Caguas&quot;</td><td>&quot;PR&quot;</td><td>725</td><td>61747</td><td>&quot;2013-12-25 00:…</td><td>&quot;PENDING&quot;</td></tr></tbody></table></div>"
      ],
      "text/plain": [
       "shape: (10, 12)\n",
       "┌───────────┬────────────┬────────────┬────────────┬───┬────────────┬──────────┬──────────┬────────────┐\n",
       "│ customer_ ┆ customer_f ┆ customer_l ┆ customer_e ┆ … ┆ customer_z ┆ order_id ┆ order_da ┆ order_stat │\n",
       "│ id        ┆ name       ┆ name       ┆ mail       ┆   ┆ ipcode     ┆ ---      ┆ te       ┆ us         │\n",
       "│ ---       ┆ ---        ┆ ---        ┆ ---        ┆   ┆ ---        ┆ i64      ┆ ---      ┆ ---        │\n",
       "│ i64       ┆ str        ┆ str        ┆ str        ┆   ┆ i64        ┆          ┆ str      ┆ str        │\n",
       "╞═══════════╪════════════╪════════════╪════════════╪═══╪════════════╪══════════╪══════════╪════════════╡\n",
       "│ 2         ┆ Mary       ┆ Barrett    ┆ XXXXXXXXX  ┆ … ┆ 80126      ┆ 15192    ┆ 2013-10- ┆ PENDING_PA │\n",
       "│           ┆            ┆            ┆            ┆   ┆            ┆          ┆ 29 00:00 ┆ YMENT      │\n",
       "│           ┆            ┆            ┆            ┆   ┆            ┆          ┆ :00.0    ┆            │\n",
       "│ 2         ┆ Mary       ┆ Barrett    ┆ XXXXXXXXX  ┆ … ┆ 80126      ┆ 33865    ┆ 2014-02- ┆ COMPLETE   │\n",
       "│           ┆            ┆            ┆            ┆   ┆            ┆          ┆ 18 00:00 ┆            │\n",
       "│           ┆            ┆            ┆            ┆   ┆            ┆          ┆ :00.0    ┆            │\n",
       "│ 2         ┆ Mary       ┆ Barrett    ┆ XXXXXXXXX  ┆ … ┆ 80126      ┆ 57963    ┆ 2013-08- ┆ ON_HOLD    │\n",
       "│           ┆            ┆            ┆            ┆   ┆            ┆          ┆ 02 00:00 ┆            │\n",
       "│           ┆            ┆            ┆            ┆   ┆            ┆          ┆ :00.0    ┆            │\n",
       "│ 2         ┆ Mary       ┆ Barrett    ┆ XXXXXXXXX  ┆ … ┆ 80126      ┆ 67863    ┆ 2013-11- ┆ COMPLETE   │\n",
       "│           ┆            ┆            ┆            ┆   ┆            ┆          ┆ 30 00:00 ┆            │\n",
       "│           ┆            ┆            ┆            ┆   ┆            ┆          ┆ :00.0    ┆            │\n",
       "│ …         ┆ …          ┆ …          ┆ …          ┆ … ┆ …          ┆ …        ┆ …        ┆ …          │\n",
       "│ 6353      ┆ Mary       ┆ Rogers     ┆ XXXXXXXXX  ┆ … ┆ 30032      ┆ 22354    ┆ 2013-12- ┆ COMPLETE   │\n",
       "│           ┆            ┆            ┆            ┆   ┆            ┆          ┆ 09 00:00 ┆            │\n",
       "│           ┆            ┆            ┆            ┆   ┆            ┆          ┆ :00.0    ┆            │\n",
       "│ 6353      ┆ Mary       ┆ Rogers     ┆ XXXXXXXXX  ┆ … ┆ 30032      ┆ 32652    ┆ 2014-02- ┆ PENDING_PA │\n",
       "│           ┆            ┆            ┆            ┆   ┆            ┆          ┆ 11 00:00 ┆ YMENT      │\n",
       "│           ┆            ┆            ┆            ┆   ┆            ┆          ┆ :00.0    ┆            │\n",
       "│ 6353      ┆ Mary       ┆ Rogers     ┆ XXXXXXXXX  ┆ … ┆ 30032      ┆ 68525    ┆ 2014-06- ┆ COMPLETE   │\n",
       "│           ┆            ┆            ┆            ┆   ┆            ┆          ┆ 05 00:00 ┆            │\n",
       "│           ┆            ┆            ┆            ┆   ┆            ┆          ┆ :00.0    ┆            │\n",
       "│ 11944     ┆ Tammy      ┆ Ferguson   ┆ XXXXXXXXX  ┆ … ┆ 725        ┆ 61747    ┆ 2013-12- ┆ PENDING    │\n",
       "│           ┆            ┆            ┆            ┆   ┆            ┆          ┆ 25 00:00 ┆            │\n",
       "│           ┆            ┆            ┆            ┆   ┆            ┆          ┆ :00.0    ┆            │\n",
       "└───────────┴────────────┴────────────┴────────────┴───┴────────────┴──────────┴──────────┴────────────┘"
      ]
     },
     "execution_count": 15,
     "metadata": {},
     "output_type": "execute_result"
    }
   ],
   "source": [
    "%%time\n",
    "df_pl_customer.join(df_pl_orders, left_on=\"customer_id\", right_on=\"order_customer_id\", how=\"left\").filter(pl.col(\"customer_street\") == \"9526 Noble Embers Ridge\")"
   ]
  }
 ],
 "metadata": {
  "kernelspec": {
   "display_name": "Python 3 (ipykernel)",
   "language": "python",
   "name": "python3"
  },
  "language_info": {
   "codemirror_mode": {
    "name": "ipython",
    "version": 3
   },
   "file_extension": ".py",
   "mimetype": "text/x-python",
   "name": "python",
   "nbconvert_exporter": "python",
   "pygments_lexer": "ipython3",
   "version": "3.9.16"
  },
  "vscode": {
   "interpreter": {
    "hash": "966f2900da358dd5f28eaee2bebb0e061e8c6e0636bb0cdf171384495951b627"
   }
  }
 },
 "nbformat": 4,
 "nbformat_minor": 4
}
