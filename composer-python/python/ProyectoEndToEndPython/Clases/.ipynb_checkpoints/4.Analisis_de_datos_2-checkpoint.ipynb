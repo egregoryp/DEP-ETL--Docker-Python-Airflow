{
 "cells": [
  {
   "cell_type": "code",
   "execution_count": null,
   "metadata": {},
   "outputs": [],
   "source": [
    "! pip install pandas\n"
   ]
  },
  {
   "cell_type": "code",
   "execution_count": null,
   "metadata": {},
   "outputs": [],
   "source": [
    "! pip install sqlalchemy"
   ]
  },
  {
   "cell_type": "code",
   "execution_count": null,
   "metadata": {},
   "outputs": [],
   "source": [
    "! pip install mysqlclient"
   ]
  },
  {
   "cell_type": "code",
   "execution_count": null,
   "metadata": {},
   "outputs": [],
   "source": [
    "import sqlalchemy as db\n",
    "import pandas as pd"
   ]
  },
  {
   "cell_type": "code",
   "execution_count": null,
   "metadata": {},
   "outputs": [],
   "source": [
    "def mysql_conn(user = 'root', password = '92612128Khs$', host = '127.0.0.1', port = '3306', database = 'retail'):\n",
    "    engine = db.create_engine(\"mysql://{0}:{1}@{2}:{3}/{4}?charset=utf8\".format(user, password, host, port, database))\n",
    "    conn = engine.connect()\n",
    "    return conn"
   ]
  },
  {
   "cell_type": "code",
   "execution_count": null,
   "metadata": {},
   "outputs": [],
   "source": [
    "conn = mysql_conn()"
   ]
  },
  {
   "cell_type": "code",
   "execution_count": null,
   "metadata": {},
   "outputs": [],
   "source": [
    "df_customer = pd.read_sql('SELECT * FROM customer', con=conn)"
   ]
  },
  {
   "cell_type": "code",
   "execution_count": null,
   "metadata": {},
   "outputs": [],
   "source": [
    "df_customer.drop('index', axis=1, inplace=True)"
   ]
  },
  {
   "cell_type": "code",
   "execution_count": null,
   "metadata": {},
   "outputs": [],
   "source": [
    "df_orders = pd.read_sql('SELECT * FROM orders', con=conn)\n"
   ]
  },
  {
   "cell_type": "code",
   "execution_count": null,
   "metadata": {},
   "outputs": [],
   "source": [
    "df_orders.drop('index', axis=1, inplace=True)\n"
   ]
  },
  {
   "cell_type": "code",
   "execution_count": null,
   "metadata": {},
   "outputs": [],
   "source": [
    "df_orders.head()"
   ]
  },
  {
   "cell_type": "code",
   "execution_count": null,
   "metadata": {},
   "outputs": [],
   "source": [
    "df_order_items = pd.read_sql(\"SELECT * FROM order_items\", con=conn)"
   ]
  },
  {
   "cell_type": "code",
   "execution_count": null,
   "metadata": {},
   "outputs": [],
   "source": [
    "df_order_items.drop('index', axis=1, inplace=True)"
   ]
  },
  {
   "cell_type": "code",
   "execution_count": null,
   "metadata": {},
   "outputs": [],
   "source": [
    "df_order_items.head()"
   ]
  },
  {
   "cell_type": "code",
   "execution_count": null,
   "metadata": {},
   "outputs": [],
   "source": [
    "df_products = pd.read_sql(\"SELECT * FROM products\", con=conn)"
   ]
  },
  {
   "cell_type": "code",
   "execution_count": null,
   "metadata": {},
   "outputs": [],
   "source": [
    "df_products.drop('index', axis=1, inplace=True)"
   ]
  },
  {
   "cell_type": "code",
   "execution_count": null,
   "metadata": {},
   "outputs": [],
   "source": [
    "df_categories = pd.read_sql(\"SELECT * FROM categories\", con=conn)"
   ]
  },
  {
   "cell_type": "code",
   "execution_count": null,
   "metadata": {},
   "outputs": [],
   "source": [
    "df_categories.drop('index',axis=1, inplace=True)"
   ]
  },
  {
   "cell_type": "code",
   "execution_count": null,
   "metadata": {},
   "outputs": [],
   "source": [
    "df_departments = pd.read_sql(\"SELECT * FROM departments\", con=conn)"
   ]
  },
  {
   "cell_type": "code",
   "execution_count": null,
   "metadata": {},
   "outputs": [],
   "source": [
    "df_departments.drop('index', axis=1, inplace=True)"
   ]
  },
  {
   "attachments": {},
   "cell_type": "markdown",
   "metadata": {},
   "source": [
    "#### Promerdio de ingresos por dia"
   ]
  },
  {
   "cell_type": "code",
   "execution_count": null,
   "metadata": {},
   "outputs": [],
   "source": [
    "df_join = df_orders.merge(df_order_items, left_on='order_id', right_on='order_item_order_id', how='left')\n",
    "df_join.head()"
   ]
  },
  {
   "cell_type": "code",
   "execution_count": null,
   "metadata": {},
   "outputs": [],
   "source": [
    "df_promedio = df_join[['order_date','order_item_subtotal']].groupby('order_date').sum()[\"order_item_subtotal\"]/df_join[['order_date',\"order_item_order_id\"]].drop_duplicates().groupby('order_date').count()[\"order_item_order_id\"]\n",
    "df_promedio.head(12)"
   ]
  },
  {
   "attachments": {},
   "cell_type": "markdown",
   "metadata": {},
   "source": [
    "#### Promedio de ingresos por mes"
   ]
  },
  {
   "cell_type": "code",
   "execution_count": null,
   "metadata": {},
   "outputs": [],
   "source": [
    "df_join[\"month\"]=df_join['order_date'].str[5:7]\n",
    "df_join['month'] = df_join['month'].astype('int32')\n",
    "df_join.head()\n"
   ]
  },
  {
   "cell_type": "code",
   "execution_count": null,
   "metadata": {},
   "outputs": [],
   "source": [
    "df_promedio = df_join[['month','order_item_subtotal','order_item_order_id']].groupby('month').sum()[\"order_item_subtotal\"]/df_join[['month',\"order_item_order_id\"]].drop_duplicates().groupby('month').count()[\"order_item_order_id\"]\n",
    "\n",
    "df_promedio"
   ]
  },
  {
   "attachments": {},
   "cell_type": "markdown",
   "metadata": {},
   "source": [
    "#### Total de ingresos por año"
   ]
  },
  {
   "cell_type": "code",
   "execution_count": null,
   "metadata": {},
   "outputs": [],
   "source": [
    "df_join[\"year\"]=df_join['order_date'].str[0:4]\n",
    "df_join['year'] = df_join['year'].astype('int32')\n",
    "df_join.head()\n"
   ]
  },
  {
   "cell_type": "code",
   "execution_count": null,
   "metadata": {},
   "outputs": [],
   "source": [
    "df_total = df_join[['year','month','order_item_subtotal']].groupby(['year','month']).sum([\"order_item_subtotal\"])\n",
    "\n",
    "df_total"
   ]
  },
  {
   "attachments": {},
   "cell_type": "markdown",
   "metadata": {},
   "source": [
    "#### Departamentos con mejores rendimientos"
   ]
  },
  {
   "cell_type": "code",
   "execution_count": null,
   "metadata": {},
   "outputs": [],
   "source": [
    "df_join  = df_orders.merge(df_order_items, left_on='order_id', right_on='order_item_order_id')\\\n",
    "                    .merge(df_products, left_on='order_item_product_id', right_on='product_id')\\\n",
    "                    .merge(df_categories, left_on='product_category_id', right_on='category_id')\\\n",
    "                    .merge(df_departments, left_on='category_department_id', right_on='department_id')"
   ]
  },
  {
   "cell_type": "code",
   "execution_count": null,
   "metadata": {},
   "outputs": [],
   "source": [
    "df_join.head()"
   ]
  },
  {
   "cell_type": "code",
   "execution_count": null,
   "metadata": {},
   "outputs": [],
   "source": [
    "df_dep = df_join[['department_name','order_item_subtotal']].groupby('department_name').sum(['order_item_subtotal'])\n",
    "df_dep"
   ]
  },
  {
   "attachments": {},
   "cell_type": "markdown",
   "metadata": {},
   "source": [
    "#### Departamentos con mejores rendimientos por año\n"
   ]
  },
  {
   "cell_type": "code",
   "execution_count": null,
   "metadata": {},
   "outputs": [],
   "source": [
    "df_join[\"year\"]=df_join['order_date'].str[0:4]\n",
    "df_join['year'] = df_join['year'].astype('int32')\n",
    "df_join.head(10)\n",
    "#df_join.query(\"order_item_quantity > 1\").head(50)\n"
   ]
  },
  {
   "cell_type": "code",
   "execution_count": null,
   "metadata": {},
   "outputs": [],
   "source": [
    "df_dep = df_join[['year','department_name','order_item_subtotal']].groupby(['year','department_name']).sum(['order_item_subtotal'])\n",
    "df_dep"
   ]
  },
  {
   "attachments": {},
   "cell_type": "markdown",
   "metadata": {},
   "source": [
    "#### Categorias mas populares"
   ]
  },
  {
   "cell_type": "code",
   "execution_count": null,
   "metadata": {},
   "outputs": [],
   "source": [
    "df_join  = df_orders.merge(df_order_items, left_on='order_id', right_on='order_item_order_id')\\\n",
    "                    .merge(df_products, left_on='order_item_product_id', right_on='product_id')\\\n",
    "                    .merge(df_categories, left_on='product_category_id', right_on='category_id')\n",
    "\n",
    "df_join['count'] = 1"
   ]
  },
  {
   "cell_type": "code",
   "execution_count": null,
   "metadata": {},
   "outputs": [],
   "source": [
    "df_cat = df_join[[\"category_name\",'count']].groupby('category_name').count()\n",
    "df_cat.sort_values('count',ascending=False).head(10)"
   ]
  },
  {
   "cell_type": "code",
   "execution_count": null,
   "metadata": {},
   "outputs": [],
   "source": [
    "df_cat = df_join[[\"category_name\",'order_item_quantity']].groupby('category_name').sum([\"order_item_quantity\"])\n",
    "df_cat.sort_values('order_item_quantity',ascending=False).head(10)"
   ]
  },
  {
   "attachments": {},
   "cell_type": "markdown",
   "metadata": {},
   "source": [
    "#### Numero de ordenes por status"
   ]
  },
  {
   "cell_type": "code",
   "execution_count": null,
   "metadata": {},
   "outputs": [],
   "source": [
    "df_orders['count'] = 1\n",
    "df_ord = df_orders[[\"order_status\",\"count\"]].groupby('order_status').count()\n",
    "df_ord"
   ]
  },
  {
   "attachments": {},
   "cell_type": "markdown",
   "metadata": {},
   "source": [
    "#### Obtener número de ordenes por fecha de pedido y estado del pedido"
   ]
  },
  {
   "cell_type": "code",
   "execution_count": null,
   "metadata": {},
   "outputs": [],
   "source": [
    "df_ped_st = df_orders[['order_date','order_status','count']].groupby(['order_date','order_status']).count()\n",
    "df_ped_st.head(10)"
   ]
  },
  {
   "attachments": {},
   "cell_type": "markdown",
   "metadata": {},
   "source": [
    "#### Obtener todos los pedidos CANCELADOS con un monto superior a $ 1000"
   ]
  },
  {
   "cell_type": "code",
   "execution_count": null,
   "metadata": {},
   "outputs": [],
   "source": [
    "df_join = df_orders.merge(df_order_items, left_on='order_id', right_on='order_item_order_id')\n",
    "\n",
    "df_join.head()"
   ]
  },
  {
   "cell_type": "code",
   "execution_count": null,
   "metadata": {},
   "outputs": [],
   "source": [
    "df_join[['order_id', 'order_date', 'order_status', 'order_item_subtotal']].query(\"order_status == 'CANCELED'\")\\\n",
    "    .groupby(['order_id', 'order_date', 'order_status']).sum([\"order_item_subtotal\"])\\\n",
    "    .query(\"order_item_subtotal > 1000\")"
   ]
  },
  {
   "attachments": {},
   "cell_type": "markdown",
   "metadata": {},
   "source": [
    "#### Obtenga los 5 mejores productos en cada categoría donde los productos están ordenados por precio más alto a más bajo"
   ]
  },
  {
   "cell_type": "code",
   "execution_count": null,
   "metadata": {},
   "outputs": [],
   "source": [
    "df_ = df_products.copy()\n",
    "df_.columns"
   ]
  },
  {
   "cell_type": "code",
   "execution_count": null,
   "metadata": {},
   "outputs": [],
   "source": [
    "df_['dense_rank'] = (df_.groupby('product_category_id')['product_price']\n",
    "                      .rank(method='dense', ascending=0,)\n",
    "                      .astype(int)\n",
    "                     )\n",
    "                  \n"
   ]
  },
  {
   "cell_type": "code",
   "execution_count": null,
   "metadata": {},
   "outputs": [],
   "source": [
    "df_top_5_by_category = (df_[['product_category_id','product_name', 'product_price', 'dense_rank']]\n",
    "                            .sort_values(['product_category_id','dense_rank']))\n",
    "df_top_5_by_category.groupby('product_category_id').head(5).reset_index(drop=True)"
   ]
  },
  {
   "cell_type": "code",
   "execution_count": null,
   "metadata": {},
   "outputs": [],
   "source": []
  }
 ],
 "metadata": {
  "kernelspec": {
   "display_name": "Analisis",
   "language": "python",
   "name": "python3"
  },
  "language_info": {
   "codemirror_mode": {
    "name": "ipython",
    "version": 3
   },
   "file_extension": ".py",
   "mimetype": "text/x-python",
   "name": "python",
   "nbconvert_exporter": "python",
   "pygments_lexer": "ipython3",
   "version": "3.9.13"
  },
  "orig_nbformat": 4,
  "vscode": {
   "interpreter": {
    "hash": "f750e34acbf34ef23981acb76ee40630ecbee3cf27222f8d6ace50ecbc8d8edf"
   }
  }
 },
 "nbformat": 4,
 "nbformat_minor": 2
}
