{
 "cells": [
  {
   "cell_type": "code",
   "execution_count": 1,
   "id": "6a5c7a7d-1654-4080-b64c-88c14f00eae7",
   "metadata": {
    "tags": []
   },
   "outputs": [
    {
     "name": "stdout",
     "output_type": "stream",
     "text": [
      "DB CONNECTED\n"
     ]
    }
   ],
   "source": [
    "import mysql.connector\n",
    "\n",
    "connection = mysql.connector.connect(\n",
    "    user='root', password='root', host='mysql', port=\"3306\", database ='db')\n",
    "print(\"DB CONNECTED\")\n"
   ]
  },
  {
   "cell_type": "code",
   "execution_count": 2,
   "id": "358037ba-29a1-4156-a4b9-bfddfe7c7d9f",
   "metadata": {
    "tags": []
   },
   "outputs": [
    {
     "name": "stdout",
     "output_type": "stream",
     "text": [
      "[(1, 'a', '2asaaa'), (2, 'ddd', 'aaaa')]\n"
     ]
    }
   ],
   "source": [
    "cursor = connection.cursor()\n",
    "cursor.execute(\"select * from students\")\n",
    "students = cursor.fetchall()\n",
    "connection.close()\n",
    "\n",
    "print(students)"
   ]
  }
 ],
 "metadata": {
  "kernelspec": {
   "display_name": "Python 3 (ipykernel)",
   "language": "python",
   "name": "python3"
  },
  "language_info": {
   "codemirror_mode": {
    "name": "ipython",
    "version": 3
   },
   "file_extension": ".py",
   "mimetype": "text/x-python",
   "name": "python",
   "nbconvert_exporter": "python",
   "pygments_lexer": "ipython3",
   "version": "3.9.16"
  }
 },
 "nbformat": 4,
 "nbformat_minor": 5
}
